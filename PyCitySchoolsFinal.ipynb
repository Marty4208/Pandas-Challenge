{
 "cells": [
  {
   "cell_type": "markdown",
   "metadata": {},
   "source": [
    "### Note\n",
    "* Instructions have been included for each segment. You do not have to follow them exactly, but they are included to help you think through the steps."
   ]
  },
  {
   "cell_type": "code",
   "execution_count": null,
   "metadata": {},
   "outputs": [],
   "source": [
    "import pandas as pd\n",
    "import numpy as np\n",
    "\n",
    "schools = \"Resources/schools_complete.csv\"\n",
    "students = \"Resources/students_complete.csv\"\n",
    "\n",
    "\n",
    "school_data = pd.read_csv(schools)\n",
    "student_data = pd.read_csv(students)\n",
    "\n",
    "\n",
    "school_profile = pd.merge(student_data, school_data, how=\"left\", on=[\"school_name\", \"school_name\"])"
   ]
  },
  {
   "cell_type": "markdown",
   "metadata": {},
   "source": [
    "## District Summary\n",
    "\n",
    "* Calculate the total number of schools\n",
    "\n",
    "* Calculate the total number of students\n",
    "\n",
    "* Calculate the total budget\n",
    "\n",
    "* Calculate the average math score \n",
    "\n",
    "* Calculate the average reading score\n",
    "\n",
    "* Calculate the percentage of students with a passing math score (70 or greater)\n",
    "\n",
    "* Calculate the percentage of students with a passing reading score (70 or greater)\n",
    "\n",
    "* Calculate the percentage of students who passed math **and** reading (% Overall Passing)\n",
    "\n",
    "* Create a dataframe to hold the above results\n",
    "\n",
    "* Optional: give the displayed data cleaner formatting"
   ]
  },
  {
   "cell_type": "code",
   "execution_count": null,
   "metadata": {},
   "outputs": [],
   "source": [
    "\n",
    "tschool = len(school_profile.school_name.unique())\n",
    "\n",
    "tstudents = school_profile.student_name.count()\n",
    "\n",
    "budget = sum(school_profile.budget.unique())\n",
    "\n",
    "average_math_score = school_profile.math_score.mean()\n",
    "\n",
    "average_reading_score = school_profile.reading_score.mean()\n",
    "\n",
    "passing_math_pct = (school_profile[school_profile['math_score'] >= 70].average_math_score.count()) / tstudents\n",
    "\n",
    "passing_reading_pct = (school_profile[school_profile['reading_score'] >= 70].average_reading_score.count()) / tstudents\n",
    "\n",
    "overall_passing_rate = (passing_math_pct + passing_reading_pct)/2"
   ]
  },
  {
   "cell_type": "code",
   "execution_count": null,
   "metadata": {},
   "outputs": [],
   "source": [
    "\n",
    "district_summary = pd.DataFrame({\"Total Schools\":[tschool],\n",
    "                                 \"Total Students\":[tstudents],\n",
    "                                 \"Total Budget\":[budget],\n",
    "                                 \"Average Math Score\":[average_math_score],\n",
    "                                 \"Average Reading Score\":[average_reading_score],\n",
    "                                 \"% Passing Math\":[passing_math_pct*100],\n",
    "                                 \"% Passing Reading\":[passing_reading_pct*100],\n",
    "                                 \"% Overall Passing Rate\":[overall_passing_rate*100]})\n",
    "\n",
    "district_summary['Total Students'] = district_summary.apply(lambda x: \"{:,.0f}\".format(x['Total Students']), axis=1)\n",
    "district_summary['Total Budget'] = district_summary.apply(lambda x: \"${:,.2f}\".format(x['Total Budget']), axis=1)\n",
    "\n",
    "district_summary"
   ]
  },
  {
   "cell_type": "markdown",
   "metadata": {},
   "source": [
    "## School Summary"
   ]
  },
  {
   "cell_type": "markdown",
   "metadata": {},
   "source": [
    "* Create an overview table that summarizes key metrics about each school, including:\n",
    "  * School Name\n",
    "  * School Type\n",
    "  * Total Students\n",
    "  * Total School Budget\n",
    "  * Per Student Budget\n",
    "  * Average Math Score\n",
    "  * Average Reading Score\n",
    "  * % Passing Math\n",
    "  * % Passing Reading\n",
    "  * % Overall Passing (The percentage of students that passed math **and** reading.)\n",
    "  \n",
    "* Create a dataframe to hold the above results"
   ]
  },
  {
   "cell_type": "code",
   "execution_count": null,
   "metadata": {},
   "outputs": [],
   "source": [
    "school_summary = school_data_complete.groupby(['school_name'])\n",
    "school_names = school_data_complete.school_name.sort_values().unique()\n",
    "school_types = school_data.sort_values(by=\"school_name\").type\n",
    "school_total_students = list(school_summary.student_name.count())\n",
    "school_budget = list(school_summary.budget.mean())\n",
    "school_per_student_budget = [i/j for i,j in zip(school_budget,school_total_students)]\n",
    "school_avg_math_score = list(school_summary.math_score.mean())\n",
    "school_avg_reading_score = list(school_summary.reading_score.mean())\n",
    "\n",
    "\n",
    "school_summary = school_data_complete[school_data_complete['math_score'] >= 70].groupby(['school_name'])\n",
    "school_pct_passing_math = [(i/j)*100 for i,j in zip(school_summary.math_score.count(),school_total_students)]\n",
    "school_summary = school_data_complete[school_data_complete['reading_score'] >= 70].groupby(['school_name'])\n",
    "school_pct_passing_reading = [(i/j)*100 for i,j in zip(school_summary.reading_score.count(),school_total_students)]\n",
    "school_overall_passing = [(i+j)/2 for i,j in zip(school_pct_passing_math,school_pct_passing_reading)]\n",
    "\n",
    "\n",
    "school_summary_df = pd.DataFrame({\"School Names\":school_names,\n",
    "                                  \"School Type\":school_types,\n",
    "                                  \"Total Students\":school_total_students,\n",
    "                                  \"Total School Budget\":school_budget,\n",
    "                                  \"Per Student Budget\":school_per_student_budget,\n",
    "                                  \"Average Math Score\":school_avg_math_score,\n",
    "                                  \"Average Reading Score\":school_avg_reading_score,\n",
    "                                  \"% Passing Math\":school_pct_passing_math,\n",
    "                                  \"% Passing Reading\":school_pct_passing_reading,\n",
    "                                  \"Overall Passing Rate\":school_overall_passing})\n",
    "\n",
    "school_summary_df = school_summary_df.reset_index(drop=True)\n",
    "school_summary_df"
   ]
  },
  {
   "cell_type": "markdown",
   "metadata": {},
   "source": [
    "## Top Performing Schools (By % Overall Passing)"
   ]
  },
  {
   "cell_type": "markdown",
   "metadata": {},
   "source": [
    "* Sort and display the top five performing schools by % overall passing."
   ]
  },
  {
   "cell_type": "code",
   "execution_count": null,
   "metadata": {
    "scrolled": true
   },
   "outputs": [],
   "source": [
    "top_5 = school_summary_df.sort_values(by='Overall Passing Rate', ascending=False).head(5).reset_index(drop=True)\n",
    "top_5"
   ]
  },
  {
   "cell_type": "markdown",
   "metadata": {},
   "source": [
    "## Bottom Performing Schools (By % Overall Passing)"
   ]
  },
  {
   "cell_type": "markdown",
   "metadata": {},
   "source": [
    "* Sort and display the five worst-performing schools by % overall passing."
   ]
  },
  {
   "cell_type": "code",
   "execution_count": null,
   "metadata": {},
   "outputs": [],
   "source": [
    "bot_5 = school_summary_df.sort_values(by='Overall Passing Rate', ascending=True).head(5).reset_index(drop=True)\n",
    "bot_5"
   ]
  },
  {
   "cell_type": "markdown",
   "metadata": {
    "collapsed": true
   },
   "source": [
    "## Math Scores by Grade"
   ]
  },
  {
   "cell_type": "markdown",
   "metadata": {},
   "source": [
    "* Create a table that lists the average Reading Score for students of each grade level (9th, 10th, 11th, 12th) at each school.\n",
    "\n",
    "  * Create a pandas series for each grade. Hint: use a conditional statement.\n",
    "  \n",
    "  * Group each series by school\n",
    "  \n",
    "  * Combine the series into a dataframe\n",
    "  \n",
    "  * Optional: give the displayed data cleaner formatting"
   ]
  },
  {
   "cell_type": "code",
   "execution_count": null,
   "metadata": {},
   "outputs": [],
   "source": [
    "\n",
    "def average_math_by_grade(grade):\n",
    "    school_summary = school_data_complete.loc[school_data_complete.grade == grade].groupby(['school_name'])\n",
    "    school_names = school_data_complete.school_name.sort_values().unique()\n",
    "    school_avg_math_score = list(school_summary.math_score.mean())\n",
    "\n",
    "    average_math_df = pd.DataFrame({\"School Names\":school_names,\n",
    "                                    f\"{grade} Avg Math Score\":school_avg_math_score})\n",
    "\n",
    "    average_math_df = average_math_df.reset_index(drop=True)\n",
    "    return average_math_df\n",
    "\n",
    "grade_9 = average_math_by_grade('9th')\n",
    "grade_10 = average_math_by_grade('10th')\n",
    "grade_11 = average_math_by_grade('11th')\n",
    "grade_12 = average_math_by_grade('12th')\n",
    "avg_math_score_by_grade = pd.merge(grade_9,grade_10,how='inner',suffixes=('',''))\n",
    "avg_math_score_by_grade = pd.merge(avg_math_score_by_grade,grade_11,how='inner',suffixes=('',''))\n",
    "avg_math_score_by_grade = pd.merge(avg_math_score_by_grade,grade_12,how='inner',suffixes=('',''))\n",
    "avg_math_score_by_grade\n",
    "\n"
   ]
  },
  {
   "cell_type": "markdown",
   "metadata": {},
   "source": [
    "## Reading Score by Grade "
   ]
  },
  {
   "cell_type": "markdown",
   "metadata": {},
   "source": [
    "* Perform the same operations as above for reading scores"
   ]
  },
  {
   "cell_type": "code",
   "execution_count": null,
   "metadata": {},
   "outputs": [],
   "source": [
    "\n",
    "def average_reading_by_grade(grade):\n",
    "    school_summary = school_data_complete.loc[school_data_complete.grade == grade].groupby(['school_name'])\n",
    "    school_names = school_data_complete.school_name.sort_values().unique()\n",
    "    school_avg_reading_score = list(school_summary.reading_score.mean())\n",
    "    \n",
    "    average_reading_df = pd.DataFrame({\"School Names\":school_names,\n",
    "                                    f\"{grade} Avg Reading Score\":school_avg_reading_score})\n",
    "\n",
    "    average_reading_df = average_reading_df.reset_index(drop=True)\n",
    "    return average_reading_df\n",
    "\n",
    "\n",
    "grade_9 = average_reading_by_grade('9th')\n",
    "grade_10 = average_reading_by_grade('10th')\n",
    "grade_11 = average_reading_by_grade('11th')\n",
    "grade_12 = average_reading_by_grade('12th')\n",
    "avg_reading_score_by_grade = pd.merge(grade_9,grade_10,how='inner',suffixes=('',''))\n",
    "avg_reading_score_by_grade = pd.merge(avg_reading_score_by_grade,grade_11,how='inner',suffixes=('',''))\n",
    "avg_reading_score_by_grade = pd.merge(avg_reading_score_by_grade,grade_12,how='inner',suffixes=('',''))\n",
    "avg_reading_score_by_grade"
   ]
  },
  {
   "cell_type": "markdown",
   "metadata": {},
   "source": [
    "## Scores by School Spending"
   ]
  },
  {
   "cell_type": "markdown",
   "metadata": {},
   "source": [
    "* Create a table that breaks down school performances based on average Spending Ranges (Per Student). Use 4 reasonable bins to group school spending. Include in the table each of the following:\n",
    "  * Average Math Score\n",
    "  * Average Reading Score\n",
    "  * % Passing Math\n",
    "  * % Passing Reading\n",
    "  * Overall Passing Rate (Average of the above two)"
   ]
  },
  {
   "cell_type": "code",
   "execution_count": null,
   "metadata": {},
   "outputs": [],
   "source": [
    "spending_bins = [0, 550, 600, 650, 700]\n",
    "group_names = [\"<$550\", \"$550-600\", \"$600-650\", \"$650-700\"]\n",
    "\n",
    "scores_by_spending = school_summary_df[[\"School Names\",\n",
    "                                    \"Average Math Score\",\n",
    "                                    \"Average Reading Score\",\n",
    "                                    \"% Passing Math\",\n",
    "                                    \"% Passing Reading\",\n",
    "                                    \"Overall Passing Rate\"]]\n",
    "scores_by_spending[\"Spending Summary\"] = pd.cut(school_summary_df[\"Per Student Budget\"], spending_bins, labels=group_names)\n",
    "scores_by_spending = scores_by_spending.groupby([\"Spending Summary\"])\n",
    "scores_by_spending.mean()\n"
   ]
  },
  {
   "cell_type": "markdown",
   "metadata": {},
   "source": [
    "## Scores by School Size"
   ]
  },
  {
   "cell_type": "markdown",
   "metadata": {},
   "source": [
    "* Perform the same operations as above, based on school size."
   ]
  },
  {
   "cell_type": "code",
   "execution_count": null,
   "metadata": {
    "scrolled": true
   },
   "outputs": [],
   "source": [
    "\n",
    "size_bins = [0, 500, 1500, 5000]\n",
    "group_names = [\"Small (<500)\", \"Medium (500-1500)\", \"Large (1500-5000)\"]\n",
    "\n",
    "scores_by_school_size = school_summary_df[[\"School Names\",\n",
    "                                    \"Average Math Score\",\n",
    "                                    \"Average Reading Score\",\n",
    "                                    \"% Passing Math\",\n",
    "                                    \"% Passing Reading\",\n",
    "                                    \"Overall Passing Rate\"]]\n",
    "scores_by_school_size[\"School Size Summary\"] = pd.cut(school_summary_df[\"Total Students\"], size_bins, labels=group_names)\n",
    "scores_by_school_size = scores_by_school_size.groupby([\"School Size Summary\"])\n",
    "scores_by_school_size.mean()"
   ]
  },
  {
   "cell_type": "markdown",
   "metadata": {},
   "source": [
    "## Scores by School Type"
   ]
  },
  {
   "cell_type": "markdown",
   "metadata": {},
   "source": [
    "* Perform the same operations as above, based on school type"
   ]
  },
  {
   "cell_type": "code",
   "execution_count": null,
   "metadata": {},
   "outputs": [],
   "source": [
    "scores_by_type = school_summary_df[[\"School Names\",\n",
    "                                    \"School Type\",\n",
    "                                    \"Average Math Score\",\n",
    "                                    \"Average Reading Score\",\n",
    "                                    \"% Passing Math\",\n",
    "                                    \"% Passing Reading\",\n",
    "                                    \"Overall Passing Rate\"]]\n",
    "scores_by_type = scores_by_type.groupby(\"School Type\")\n",
    "scores_by_type.mean()"
   ]
  },
  {
   "cell_type": "code",
   "execution_count": null,
   "metadata": {},
   "outputs": [],
   "source": []
  },
  {
   "cell_type": "code",
   "execution_count": null,
   "metadata": {},
   "outputs": [],
   "source": []
  },
  {
   "cell_type": "code",
   "execution_count": null,
   "metadata": {},
   "outputs": [],
   "source": []
  }
 ],
 "metadata": {
  "anaconda-cloud": {},
  "kernel_info": {
   "name": "python3"
  },
  "kernelspec": {
   "display_name": "Python 3",
   "language": "python",
   "name": "python3"
  },
  "language_info": {
   "codemirror_mode": {
    "name": "ipython",
    "version": 3
   },
   "file_extension": ".py",
   "mimetype": "text/x-python",
   "name": "python",
   "nbconvert_exporter": "python",
   "pygments_lexer": "ipython3",
   "version": "3.6.10"
  },
  "latex_envs": {
   "LaTeX_envs_menu_present": true,
   "autoclose": false,
   "autocomplete": true,
   "bibliofile": "biblio.bib",
   "cite_by": "apalike",
   "current_citInitial": 1,
   "eqLabelWithNumbers": true,
   "eqNumInitial": 1,
   "hotkeys": {
    "equation": "Ctrl-E",
    "itemize": "Ctrl-I"
   },
   "labels_anchors": false,
   "latex_user_defs": false,
   "report_style_numbering": false,
   "user_envs_cfg": false
  },
  "nteract": {
   "version": "0.8.4"
  }
 },
 "nbformat": 4,
 "nbformat_minor": 1
}
